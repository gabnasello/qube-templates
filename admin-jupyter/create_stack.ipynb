{
 "cells": [
  {
   "cell_type": "markdown",
   "metadata": {},
   "source": [
    "# Create a Stack and Assign it to a User Using Portainer API"
   ]
  },
  {
   "cell_type": "code",
   "execution_count": null,
   "metadata": {},
   "outputs": [],
   "source": [
    "from portainer_utils import PortainerAPI"
   ]
  },
  {
   "cell_type": "markdown",
   "metadata": {},
   "source": [
    "# Initialize the API Client"
   ]
  },
  {
   "cell_type": "code",
   "execution_count": null,
   "metadata": {},
   "outputs": [],
   "source": [
    "domain_url = 'www.address.com'\n",
    "portainer_url = domain_url + '/portainer'\n",
    "admin_username = \"admin\" \n",
    "admin_password = \"password\""
   ]
  },
  {
   "cell_type": "code",
   "execution_count": null,
   "metadata": {},
   "outputs": [],
   "source": [
    "portainer = PortainerAPI(portainer_url, admin_username, admin_password)"
   ]
  },
  {
   "cell_type": "markdown",
   "metadata": {},
   "source": [
    "# OPTIONAL - Get All Users"
   ]
  },
  {
   "cell_type": "code",
   "execution_count": null,
   "metadata": {},
   "outputs": [],
   "source": [
    "users = portainer.get_users()\n",
    "print(users)"
   ]
  },
  {
   "cell_type": "markdown",
   "metadata": {},
   "source": [
    "# OPTIONAL - Get All Stacks"
   ]
  },
  {
   "cell_type": "code",
   "execution_count": null,
   "metadata": {},
   "outputs": [],
   "source": [
    "stacks = portainer.get_stacks()\n",
    "# print(stacks)"
   ]
  },
  {
   "cell_type": "markdown",
   "metadata": {},
   "source": [
    "# Create a KASM-VNC based stack"
   ]
  },
  {
   "cell_type": "code",
   "execution_count": null,
   "metadata": {},
   "outputs": [],
   "source": [
    "target_user = 'user'\n",
    "docker_image = 'example-env'\n",
    "\n",
    "import secrets\n",
    "env_vars = [\n",
    "    {\"name\": \"UNAME\", \"value\": target_user},\n",
    "    {\"name\": \"PASSWORD\", \"value\": secrets.token_hex(32) },\n",
    "    {\"name\": \"QUBEIP\", \"value\": qube_ip},\n",
    "    {\"name\": \"QUBEPORT\", \"value\": qube_port}\n",
    "] \n",
    "\n",
    "\n",
    "stack_name = docker_image + '_' +  target_user\n",
    "compose_file_path = docker_image + '/' + 'docker-compose.yaml'"
   ]
  },
  {
   "cell_type": "code",
   "execution_count": null,
   "metadata": {},
   "outputs": [],
   "source": [
    "portainer.create_and_assign_stack(\n",
    "    stack_name=stack_name,\n",
    "    compose_file_path=compose_file_path,\n",
    "    target_user = target_user,\n",
    "    env_vars=env_vars\n",
    ")"
   ]
  },
  {
   "cell_type": "markdown",
   "metadata": {},
   "source": [
    "# Create a Jupyter-based stack"
   ]
  },
  {
   "cell_type": "markdown",
   "metadata": {},
   "source": [
    "## Create the Stack"
   ]
  },
  {
   "cell_type": "code",
   "execution_count": null,
   "metadata": {},
   "outputs": [],
   "source": [
    "target_user = 'user'\n",
    "docker_image = 'example-env'\n",
    "\n",
    "import secrets\n",
    "env_vars = [\n",
    "    {\"name\": \"UNAME\", \"value\": target_user},\n",
    "    {\"name\": \"JUPYTER_TOKEN\", \"value\": secrets.token_hex(32) },\n",
    "    {\"name\": \"DOMAIN_URL\", \"value\": domain_url}\n",
    "] \n",
    "\n",
    "\n",
    "stack_name = docker_image + '_' +  target_user\n",
    "compose_file_path = docker_image + '/' + 'docker-compose.yaml'"
   ]
  },
  {
   "cell_type": "code",
   "execution_count": null,
   "metadata": {},
   "outputs": [],
   "source": [
    "portainer.create_and_assign_stack(\n",
    "    stack_name=stack_name,\n",
    "    compose_file_path=compose_file_path,\n",
    "    target_user = target_user,\n",
    "    env_vars=env_vars\n",
    ")"
   ]
  },
  {
   "cell_type": "markdown",
   "metadata": {},
   "source": [
    "# Create a RStudio-based stack"
   ]
  },
  {
   "cell_type": "markdown",
   "metadata": {},
   "source": [
    "## Create the Stack"
   ]
  },
  {
   "cell_type": "code",
   "execution_count": null,
   "metadata": {},
   "outputs": [],
   "source": [
    "target_user = 'user'\n",
    "docker_image = 'example-env'\n",
    "\n",
    "import secrets\n",
    "env_vars = [\n",
    "    {\"name\": \"UNAME\", \"value\": target_user},\n",
    "    {\"name\": \"PASSWORD\", \"value\": secrets.token_hex(32) },\n",
    "    {\"name\": \"QUBEIP\", \"value\": qube_ip},\n",
    "    {\"name\": \"QUBEPORT\", \"value\": qube_port}\n",
    "] \n",
    "\n",
    "\n",
    "stack_name = docker_image + '_' +  target_user\n",
    "compose_file_path = docker_image + '/' + 'docker-compose.yaml'"
   ]
  },
  {
   "cell_type": "code",
   "execution_count": null,
   "metadata": {},
   "outputs": [],
   "source": [
    "portainer.create_and_assign_stack(\n",
    "    stack_name=stack_name,\n",
    "    compose_file_path=compose_file_path,\n",
    "    target_user = target_user,\n",
    "    env_vars=env_vars\n",
    ")"
   ]
  },
  {
   "cell_type": "code",
   "execution_count": null,
   "metadata": {},
   "outputs": [],
   "source": []
  }
 ],
 "metadata": {
  "kernelspec": {
   "display_name": "Python 3 (ipykernel)",
   "language": "python",
   "name": "python3"
  },
  "language_info": {
   "codemirror_mode": {
    "name": "ipython",
    "version": 3
   },
   "file_extension": ".py",
   "mimetype": "text/x-python",
   "name": "python",
   "nbconvert_exporter": "python",
   "pygments_lexer": "ipython3",
   "version": "3.12.7"
  }
 },
 "nbformat": 4,
 "nbformat_minor": 4
}
